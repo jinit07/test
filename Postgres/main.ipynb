{
 "cells": [
  {
   "cell_type": "code",
   "execution_count": 3,
   "metadata": {},
   "outputs": [
    {
     "name": "stdout",
     "output_type": "stream",
     "text": [
      "Note: you may need to restart the kernel to use updated packages.\n"
     ]
    },
    {
     "name": "stderr",
     "output_type": "stream",
     "text": [
      "The system cannot find the file specified.\n"
     ]
    }
   ],
   "source": [
    "pip install numpy<2"
   ]
  },
  {
   "cell_type": "code",
   "execution_count": 1,
   "metadata": {},
   "outputs": [
    {
     "name": "stdout",
     "output_type": "stream",
     "text": [
      "Requirement already satisfied: pandas in c:\\users\\jinit\\appdata\\roaming\\python\\python312\\site-packages (2.2.3)\n",
      "Requirement already satisfied: psycopg2 in c:\\users\\jinit\\appdata\\roaming\\python\\python312\\site-packages (2.9.10)\n",
      "Requirement already satisfied: numpy>=1.26.0 in c:\\users\\jinit\\appdata\\roaming\\python\\python312\\site-packages (from pandas) (2.1.2)\n",
      "Requirement already satisfied: python-dateutil>=2.8.2 in c:\\users\\jinit\\appdata\\roaming\\python\\python312\\site-packages (from pandas) (2.9.0.post0)\n",
      "Requirement already satisfied: pytz>=2020.1 in c:\\users\\jinit\\appdata\\roaming\\python\\python312\\site-packages (from pandas) (2024.2)\n",
      "Requirement already satisfied: tzdata>=2022.7 in c:\\users\\jinit\\appdata\\roaming\\python\\python312\\site-packages (from pandas) (2024.2)\n",
      "Requirement already satisfied: six>=1.5 in c:\\users\\jinit\\appdata\\roaming\\python\\python312\\site-packages (from python-dateutil>=2.8.2->pandas) (1.16.0)\n"
     ]
    }
   ],
   "source": [
    "!pip install pandas psycopg2"
   ]
  },
  {
   "cell_type": "code",
   "execution_count": 8,
   "metadata": {},
   "outputs": [
    {
     "name": "stdout",
     "output_type": "stream",
     "text": [
      "Data loaded into PostgreSQL database successfully.\n"
     ]
    }
   ],
   "source": [
    "import pandas as pd\n",
    "import psycopg2\n",
    "\n",
    "# Load your CSV file\n",
    "csv_file_path = './Long_Preparation_Time.csv'  # Update this path\n",
    "df = pd.read_csv(csv_file_path)\n",
    "\n",
    "# Connect to PostgreSQL\n",
    "conn = psycopg2.connect(\n",
    "    dbname='NewDB',\n",
    "    user='postgres',\n",
    "    password='123',\n",
    "    host='localhost',\n",
    "    port='5432'\n",
    ")\n",
    "cursor = conn.cursor()\n",
    "\n",
    "# Create the table (if it doesn't exist)\n",
    "create_table_query = '''\n",
    "CREATE TABLE IF NOT EXISTS orders (\n",
    "    KOT_ID_k INTEGER,\n",
    "    Order_Type_k TEXT,\n",
    "    Table_No_k TEXT,\n",
    "    Server_Name_k TEXT,\n",
    "    Item_Name_k TEXT,\n",
    "    Quantity_k INTEGER,\n",
    "    Price_k REAL,\n",
    "    Item_Status_k TEXT,\n",
    "    Punch_Time_k TIMESTAMP,\n",
    "    Prepared_Time_k TIMESTAMP,\n",
    "    Preparation_Time_Taken_Mins_k REAL\n",
    ");\n",
    "'''\n",
    "cursor.execute(create_table_query)\n",
    "conn.commit()\n",
    "\n",
    "# Insert data\n",
    "for row in df.itertuples(index=False):\n",
    "    cursor.execute('''\n",
    "    INSERT INTO orders (KOT_ID_k, Order_Type_k, Table_No_k, Server_Name_k, Item_Name_k, Quantity_k, Price_k, Item_Status_k, Punch_Time_k, Prepared_Time_k, Preparation_Time_Taken_Mins_k)\n",
    "    VALUES (%s, %s, %s, %s, %s, %s, %s, %s, %s, %s, %s);\n",
    "    ''', row)\n",
    "\n",
    "conn.commit()\n",
    "cursor.close()\n",
    "conn.close()\n",
    "\n",
    "print(\"Data loaded into PostgreSQL database successfully.\")\n"
   ]
  },
  {
   "cell_type": "code",
   "execution_count": null,
   "metadata": {},
   "outputs": [],
   "source": []
  },
  {
   "cell_type": "code",
   "execution_count": null,
   "metadata": {},
   "outputs": [],
   "source": []
  }
 ],
 "metadata": {
  "kernelspec": {
   "display_name": "base",
   "language": "python",
   "name": "python3"
  },
  "language_info": {
   "codemirror_mode": {
    "name": "ipython",
    "version": 3
   },
   "file_extension": ".py",
   "mimetype": "text/x-python",
   "name": "python",
   "nbconvert_exporter": "python",
   "pygments_lexer": "ipython3",
   "version": "3.12.4"
  }
 },
 "nbformat": 4,
 "nbformat_minor": 2
}
